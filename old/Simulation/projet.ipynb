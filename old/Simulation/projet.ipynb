{
 "cells": [
  {
   "cell_type": "markdown",
   "id": "ec1ffc8f",
   "metadata": {},
   "source": [
    "# Decentralized Drone Algorithms for wildfire detection and response\n",
    "\n",
    "Axel Lavigne\n"
   ]
  },
  {
   "cell_type": "markdown",
   "id": "c419c998",
   "metadata": {},
   "source": [
    "les drones doivent pouvoir s'echanger des messages pour se mettre d'accord sur leur position et leur target.\n",
    "\n",
    "cependant, il ne doivent être décentralisées, il faut que les drones puissent se mettre d'accord sans un drone central. \n",
    "\n",
    "dans cette première partie nous nous interesserons à la façon dont les dronnes peuvent s'echanger des informations."
   ]
  },
  {
   "cell_type": "markdown",
   "id": "1fb01e7d",
   "metadata": {},
   "source": [
    "## I- Broadcast "
   ]
  },
  {
   "cell_type": "markdown",
   "id": "3f7aa9bb",
   "metadata": {},
   "source": []
  }
 ],
 "metadata": {
  "kernelspec": {
   "display_name": "Python 3",
   "language": "python",
   "name": "python3"
  },
  "language_info": {
   "codemirror_mode": {
    "name": "ipython",
    "version": 3
   },
   "file_extension": ".py",
   "mimetype": "text/x-python",
   "name": "python",
   "nbconvert_exporter": "python",
   "pygments_lexer": "ipython3",
   "version": "3.10.12"
  }
 },
 "nbformat": 4,
 "nbformat_minor": 5
}
