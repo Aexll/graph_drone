{
 "cells": [
  {
   "cell_type": "markdown",
   "id": "ec1ffc8f",
   "metadata": {},
   "source": [
    "# Decentralized Drone Algorithms for wildfire detection and response\n",
    "\n",
    "Axel Lavigne\n"
   ]
  },
  {
   "cell_type": "markdown",
   "id": "69136cd3",
   "metadata": {},
   "source": [
    "La première étape de ce projet est de créer un environnement de simulation pour les drones. Nous allons utiliser pygame pour créer une simulation simple où les drones peuvent se déplacer et détecter des incendies."
   ]
  },
  {
   "cell_type": "markdown",
   "id": "1170f36c",
   "metadata": {},
   "source": [
    "Importons les bibliothèques nécessaires :\n"
   ]
  },
  {
   "cell_type": "code",
   "execution_count": 2,
   "id": "e9da97e6",
   "metadata": {},
   "outputs": [
    {
     "name": "stdout",
     "output_type": "stream",
     "text": [
      "pygame 2.6.1 (SDL 2.28.4, Python 3.10.12)\n",
      "Hello from the pygame community. https://www.pygame.org/contribute.html\n"
     ]
    }
   ],
   "source": [
    "import numpy as np\n",
    "import pygame"
   ]
  },
  {
   "cell_type": "markdown",
   "id": "7c70e1c5",
   "metadata": {},
   "source": [
    "On peut alors créer un environement de simulation simple avec pygame."
   ]
  },
  {
   "cell_type": "code",
   "execution_count": 3,
   "id": "8e1b590e",
   "metadata": {},
   "outputs": [],
   "source": [
    "def main():\n",
    "    pygame.init()\n",
    "    screen = pygame.display.set_mode((800, 600))\n",
    "    pygame.display.set_caption(\"Simulation\")\n",
    "\n",
    "    running = True\n",
    "    while running:\n",
    "        for event in pygame.event.get():\n",
    "            if event.type == pygame.QUIT:\n",
    "                running = False\n",
    "\n",
    "        screen.fill((0, 0, 0))  # Clear the screen with black\n",
    "\n",
    "        pygame.draw.circle(screen, (255,0,0), (400,300), 50)\n",
    "\n",
    "        pygame.display.flip()  # Update the display\n",
    "\n",
    "    pygame.quit()\n",
    "\n",
    "# main()"
   ]
  },
  {
   "cell_type": "markdown",
   "id": "86303d45",
   "metadata": {},
   "source": [
    "Ajoutons une classe 'Objet' pour représenter les objets dans l'environnement"
   ]
  },
  {
   "cell_type": "code",
   "execution_count": 4,
   "id": "abb46730",
   "metadata": {},
   "outputs": [],
   "source": [
    "class Object:\n",
    "    def __init__(self, position):\n",
    "        self.position = np.array(position, dtype=float)\n",
    "\n",
    "    def update(self, dt):\n",
    "        pass\n",
    "\n",
    "    def draw(self, screen):\n",
    "        pygame.draw.circle(screen, (0, 255, 0), self.position.astype(int), 10)"
   ]
  },
  {
   "cell_type": "markdown",
   "id": "d9324680",
   "metadata": {},
   "source": [
    "De cette classe, nous allons hériter pour créer une classe 'Drone' très simple qui se déplace dans l'environnement "
   ]
  },
  {
   "cell_type": "code",
   "execution_count": 5,
   "id": "84433d2d",
   "metadata": {},
   "outputs": [],
   "source": [
    "DRONE_SPEED = 10"
   ]
  },
  {
   "cell_type": "code",
   "execution_count": 6,
   "id": "4908c318",
   "metadata": {},
   "outputs": [],
   "source": [
    "\n",
    "class Drone(Object):\n",
    "    def __init__(self, position, target):\n",
    "        super().__init__(position)\n",
    "        self.target = np.array(target, dtype=float)\n",
    "\n",
    "    def update(self, dt):\n",
    "        dir = np.linalg.norm(self.target - self.position)\n",
    "        if dir > 0:\n",
    "            dir = (self.target - self.position) / dir\n",
    "        else:\n",
    "            dir = np.zeros_like(self.position)\n",
    "        self.position += dir * DRONE_SPEED * dt\n",
    "        pass\n",
    "\n",
    "    def draw(self, screen):\n",
    "        pygame.draw.circle(screen, (0, 0, 255), self.position.astype(int), 10)"
   ]
  },
  {
   "cell_type": "markdown",
   "id": "2c8c04b4",
   "metadata": {},
   "source": [
    "on addapte le main pour dessier les drones et les objets dans l'environnement"
   ]
  },
  {
   "cell_type": "code",
   "execution_count": 7,
   "id": "d2038aaf",
   "metadata": {},
   "outputs": [],
   "source": [
    "world = [\n",
    "    Object([100, 100]),\n",
    "    Drone([200, 200], [100, 400]),\n",
    "    Drone([300, 300], [400, 100]),\n",
    "]"
   ]
  },
  {
   "cell_type": "code",
   "execution_count": 8,
   "id": "1b13ee3d",
   "metadata": {},
   "outputs": [],
   "source": [
    "def main():\n",
    "    pygame.init()\n",
    "    screen = pygame.display.set_mode((800, 600))\n",
    "    pygame.display.set_caption(\"Simulation\")\n",
    "\n",
    "    running = True\n",
    "    while running:\n",
    "        for event in pygame.event.get():\n",
    "            if event.type == pygame.QUIT:\n",
    "                running = False\n",
    "\n",
    "        screen.fill((0, 0, 0))  # Clear the screen with black\n",
    "\n",
    "        for obj in world:\n",
    "            obj.update(0.016)\n",
    "\n",
    "        for obj in world:    \n",
    "            obj.draw(screen)\n",
    "\n",
    "        pygame.display.flip()  # Update the display\n",
    "\n",
    "    pygame.quit()\n",
    "\n",
    "# main()\n"
   ]
  },
  {
   "cell_type": "markdown",
   "id": "d38c7ffa",
   "metadata": {},
   "source": [
    "Nos drones peuvent maintenant se déplacer dans l'environnement. il faut qu'il puisse réfléchir à la situation et prendre des décisions. Pour cela,\n",
    "nous créons une classe brain qui va contenir la logique de décision des drones."
   ]
  },
  {
   "cell_type": "markdown",
   "id": "fbc59859",
   "metadata": {},
   "source": [
    "pour l'instant, le cerveau du drone va simplement décider de se déplacer vers un point aléatoire dans l'environnement."
   ]
  },
  {
   "cell_type": "markdown",
   "id": "94cf5874",
   "metadata": {},
   "source": [
    "le fonctionnement du cerveau est simple : il recoit les informations percues par le drone, et il décide d'ou se déplacer."
   ]
  },
  {
   "cell_type": "code",
   "execution_count": 9,
   "id": "870af4f5",
   "metadata": {},
   "outputs": [],
   "source": [
    "class Brain:\n",
    "    def __init__(self, **kwargs):\n",
    "        self.target = kwargs.get('target', np.random.rand(2) * 500)\n",
    "        pass\n",
    "    def think(self, **kwargs):\n",
    "        self.target = np.random.rand(2) * 500\n",
    "        return self.target"
   ]
  },
  {
   "cell_type": "code",
   "execution_count": null,
   "id": "802df360",
   "metadata": {},
   "outputs": [],
   "source": [
    "\n",
    "class Drone(Object):\n",
    "    def __init__(self, position, target):\n",
    "        super().__init__(position)\n",
    "        self.brain = Brain(target=target)\n",
    "\n",
    "    def think(self):\n",
    "        self.brain.think()\n",
    "\n",
    "    def update(self, dt):\n",
    "        dir = np.linalg.norm(self.self.brain.target - self.position)\n",
    "        if dir > 0:\n",
    "            dir = (self.brain.target - self.position) / dir\n",
    "        else:\n",
    "            dir = np.zeros_like(self.position)\n",
    "        self.position += dir * DRONE_SPEED * dt\n",
    "        pass\n",
    "\n",
    "\n",
    "    def draw(self, screen):\n",
    "        pygame.draw.circle(screen, (0, 0, 255), self.position.astype(int), 10)"
   ]
  },
  {
   "cell_type": "code",
   "execution_count": 15,
   "id": "70a4eab6",
   "metadata": {},
   "outputs": [],
   "source": [
    "drones = [\n",
    "    Drone([200, 200], [100, 400]),\n",
    "    Drone([300, 300], [400, 100]),\n",
    "]"
   ]
  },
  {
   "cell_type": "code",
   "execution_count": 16,
   "id": "290be912",
   "metadata": {},
   "outputs": [
    {
     "ename": "AttributeError",
     "evalue": "'Drone' object has no attribute 'self'",
     "output_type": "error",
     "traceback": [
      "\u001b[0;31m---------------------------------------------------------------------------\u001b[0m",
      "\u001b[0;31mAttributeError\u001b[0m                            Traceback (most recent call last)",
      "Cell \u001b[0;32mIn[16], line 27\u001b[0m\n\u001b[1;32m     23\u001b[0m         pygame\u001b[38;5;241m.\u001b[39mdisplay\u001b[38;5;241m.\u001b[39mflip()  \u001b[38;5;66;03m# Update the display\u001b[39;00m\n\u001b[1;32m     25\u001b[0m     pygame\u001b[38;5;241m.\u001b[39mquit()\n\u001b[0;32m---> 27\u001b[0m \u001b[43mmain\u001b[49m\u001b[43m(\u001b[49m\u001b[43m)\u001b[49m\n",
      "Cell \u001b[0;32mIn[16], line 18\u001b[0m, in \u001b[0;36mmain\u001b[0;34m()\u001b[0m\n\u001b[1;32m     15\u001b[0m     drone\u001b[38;5;241m.\u001b[39mthink()\n\u001b[1;32m     17\u001b[0m \u001b[38;5;28;01mfor\u001b[39;00m drone \u001b[38;5;129;01min\u001b[39;00m drones:\n\u001b[0;32m---> 18\u001b[0m     \u001b[43mdrone\u001b[49m\u001b[38;5;241;43m.\u001b[39;49m\u001b[43mupdate\u001b[49m\u001b[43m(\u001b[49m\u001b[38;5;241;43m0.016\u001b[39;49m\u001b[43m)\u001b[49m\n\u001b[1;32m     20\u001b[0m \u001b[38;5;28;01mfor\u001b[39;00m drone \u001b[38;5;129;01min\u001b[39;00m drones:\n\u001b[1;32m     21\u001b[0m     drone\u001b[38;5;241m.\u001b[39mdraw(screen)\n",
      "Cell \u001b[0;32mIn[10], line 10\u001b[0m, in \u001b[0;36mDrone.update\u001b[0;34m(self, dt)\u001b[0m\n\u001b[1;32m      9\u001b[0m \u001b[38;5;28;01mdef\u001b[39;00m \u001b[38;5;21mupdate\u001b[39m(\u001b[38;5;28mself\u001b[39m, dt):\n\u001b[0;32m---> 10\u001b[0m     \u001b[38;5;28mdir\u001b[39m \u001b[38;5;241m=\u001b[39m np\u001b[38;5;241m.\u001b[39mlinalg\u001b[38;5;241m.\u001b[39mnorm(\u001b[38;5;28;43mself\u001b[39;49m\u001b[38;5;241;43m.\u001b[39;49m\u001b[43mself\u001b[49m\u001b[38;5;241m.\u001b[39mbrain\u001b[38;5;241m.\u001b[39mtarget \u001b[38;5;241m-\u001b[39m \u001b[38;5;28mself\u001b[39m\u001b[38;5;241m.\u001b[39mposition)\n\u001b[1;32m     11\u001b[0m     \u001b[38;5;28;01mif\u001b[39;00m \u001b[38;5;28mdir\u001b[39m \u001b[38;5;241m>\u001b[39m \u001b[38;5;241m0\u001b[39m:\n\u001b[1;32m     12\u001b[0m         \u001b[38;5;28mdir\u001b[39m \u001b[38;5;241m=\u001b[39m (\u001b[38;5;28mself\u001b[39m\u001b[38;5;241m.\u001b[39mbrain\u001b[38;5;241m.\u001b[39mtarget \u001b[38;5;241m-\u001b[39m \u001b[38;5;28mself\u001b[39m\u001b[38;5;241m.\u001b[39mposition) \u001b[38;5;241m/\u001b[39m \u001b[38;5;28mdir\u001b[39m\n",
      "\u001b[0;31mAttributeError\u001b[0m: 'Drone' object has no attribute 'self'"
     ]
    }
   ],
   "source": [
    "def main():\n",
    "    pygame.init()\n",
    "    screen = pygame.display.set_mode((800, 600))\n",
    "    pygame.display.set_caption(\"Simulation\")\n",
    "\n",
    "    running = True\n",
    "    while running:\n",
    "        for event in pygame.event.get():\n",
    "            if event.type == pygame.QUIT:\n",
    "                running = False\n",
    "\n",
    "        screen.fill((0, 0, 0))  # Clear the screen with black\n",
    "\n",
    "        for drone in drones:\n",
    "            drone.think()\n",
    "\n",
    "        for drone in drones:\n",
    "            drone.update(0.016)\n",
    "\n",
    "        for drone in drones:\n",
    "            drone.draw(screen)\n",
    "\n",
    "        pygame.display.flip()  # Update the display\n",
    "\n",
    "    pygame.quit()\n",
    "\n",
    "main()"
   ]
  },
  {
   "cell_type": "code",
   "execution_count": null,
   "id": "f1ab0c6b",
   "metadata": {},
   "outputs": [],
   "source": []
  }
 ],
 "metadata": {
  "kernelspec": {
   "display_name": "Python 3",
   "language": "python",
   "name": "python3"
  },
  "language_info": {
   "codemirror_mode": {
    "name": "ipython",
    "version": 3
   },
   "file_extension": ".py",
   "mimetype": "text/x-python",
   "name": "python",
   "nbconvert_exporter": "python",
   "pygments_lexer": "ipython3",
   "version": "3.10.12"
  }
 },
 "nbformat": 4,
 "nbformat_minor": 5
}
